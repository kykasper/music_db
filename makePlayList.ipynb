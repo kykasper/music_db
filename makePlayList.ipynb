{
 "cells": [
  {
   "cell_type": "code",
   "execution_count": null,
   "metadata": {},
   "outputs": [],
   "source": [
    "import os\n",
    "from mutagen.easyid3 import EasyID3\n",
    "from mutagen.flac import FLAC \n",
    "import config"
   ]
  },
  {
   "cell_type": "code",
   "execution_count": null,
   "metadata": {},
   "outputs": [],
   "source": [
    "def getTagData(curdir, file):\n",
    "    ext = file.rsplit(\".\", 1)[-1]\n",
    "    source_filepath = os.path.join(curdir, file)\n",
    "    res = [\"\", \"\", \"\", \"\", source_filepath]\n",
    "    tags = None\n",
    "    if ext == 'mp3':\n",
    "        tags = EasyID3(source_filepath)\n",
    "    elif ext == 'flac':\n",
    "        tags = FLAC(source_filepath)\n",
    "    else:\n",
    "        print(\"ext : \"+ext)\n",
    "        print(source_filepath)\n",
    "        print(\"*\"*20)\n",
    "        return tags\n",
    "        \n",
    "    if ('artist' in tags):\n",
    "        res[1] = tags['artist'][0]\n",
    "    else:\n",
    "        res[1] = tags['albumartist'][0]\n",
    "        \n",
    "    if ('albumartist' in tags):\n",
    "        res[0] = tags['albumartist'][0]\n",
    "    else:\n",
    "        res[0] = tags['artist'][0]\n",
    "        \n",
    "    res[2] = tags['title'][0]\n",
    "    res[3] = tags['album'][0]\n",
    "    return res"
   ]
  },
  {
   "cell_type": "code",
   "execution_count": null,
   "metadata": {
    "scrolled": true
   },
   "outputs": [],
   "source": [
    "# 曲のdb作成　曲名　絶対パス　アーティスト　アルバム名\n",
    "import sqlite3\n",
    "conn = sqlite3.connect('music.sqlite3')\n",
    "c = conn.cursor()\n",
    "# c.execute('create table songs(id integer, albumartist text, artist text, songname text, album text, path text)')"
   ]
  },
  {
   "cell_type": "code",
   "execution_count": null,
   "metadata": {},
   "outputs": [],
   "source": [
    "id = 0\n",
    "source_path = config.MUSIC_DIRECTORY\n",
    "for curdir, dirs, files in os.walk(source_path):\n",
    "    for file in files:\n",
    "        # print(curdir, file)\n",
    "        # ext = file.rsplit(\".\", 1)[-1]\n",
    "        # source_filepath = os.path.join(curdir, file)\n",
    "        tags = getTagData(curdir, file)\n",
    "        if tags is None: continue\n",
    "        data = [id, *tags]\n",
    "        # for d in data:\n",
    "        #     print(d)\n",
    "        # print(\"=\"*20)\n",
    "        c.execute(\"INSERT INTO songs VALUES (?,?,?,?,?,?)\", tuple(data) )\n",
    "        id+=1"
   ]
  },
  {
   "cell_type": "code",
   "execution_count": null,
   "metadata": {},
   "outputs": [],
   "source": [
    "df=pd.read_sql_query('SELECT * FROM songs WHERE songname LIKE \"エージェント夜を往く%(M@STER VERSION)\"', conn)"
   ]
  },
  {
   "cell_type": "code",
   "execution_count": null,
   "metadata": {},
   "outputs": [],
   "source": [
    "df"
   ]
  },
  {
   "cell_type": "code",
   "execution_count": null,
   "metadata": {},
   "outputs": [],
   "source": [
    "df.to_csv(\"test.m3u8\", header=False, index=False)"
   ]
  },
  {
   "cell_type": "code",
   "execution_count": null,
   "metadata": {},
   "outputs": [],
   "source": [
    "# terminalで実行したSQL文と同じようにexecute()に書く\n",
    "c.execute('SELECT * FROM songs WHERE artist = \"鈴木このみ\"')\n",
    "data = c.fetchall()\n",
    "# 中身を全て取得するfetchall()を使って、printする。\n",
    "for d in data:\n",
    "    print(d)"
   ]
  },
  {
   "cell_type": "code",
   "execution_count": null,
   "metadata": {},
   "outputs": [],
   "source": [
    "da"
   ]
  },
  {
   "cell_type": "code",
   "execution_count": null,
   "metadata": {},
   "outputs": [],
   "source": [
    "path_w = 'test_w.txt'\n",
    "\n",
    "s = 'New file'\n",
    "\n",
    "with open(path_w, mode='w') as f:\n",
    "    f.write(s)\n",
    "\n",
    "with open(path_w) as f:\n",
    "    print(f.read())\n",
    "# New file\n"
   ]
  },
  {
   "cell_type": "code",
   "execution_count": null,
   "metadata": {},
   "outputs": [],
   "source": [
    "import sqlite3\n",
    "conn = sqlite3.connect('example.sqlite3')\n",
    "c = conn.cursor()\n",
    "c.execute('create table persons(id integer, name text, birthday)')"
   ]
  },
  {
   "cell_type": "code",
   "execution_count": null,
   "metadata": {},
   "outputs": [],
   "source": [
    "conn.commit()"
   ]
  },
  {
   "cell_type": "code",
   "execution_count": null,
   "metadata": {},
   "outputs": [],
   "source": [
    "for desc in c.description:\n",
    "    print(desc[0])"
   ]
  },
  {
   "cell_type": "code",
   "execution_count": null,
   "metadata": {},
   "outputs": [],
   "source": [
    "# 曲名で検索して絶対パスをテキストファイルに入力"
   ]
  }
 ],
 "metadata": {
  "kernelspec": {
   "display_name": "Python 3",
   "language": "python",
   "name": "python3"
  },
  "language_info": {
   "codemirror_mode": {
    "name": "ipython",
    "version": 3
   },
   "file_extension": ".py",
   "mimetype": "text/x-python",
   "name": "python",
   "nbconvert_exporter": "python",
   "pygments_lexer": "ipython3",
   "version": "3.7.6"
  }
 },
 "nbformat": 4,
 "nbformat_minor": 2
}